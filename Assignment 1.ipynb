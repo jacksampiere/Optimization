{
 "cells": [
  {
   "cell_type": "markdown",
   "metadata": {},
   "source": [
    "# Part (a)"
   ]
  },
  {
   "cell_type": "markdown",
   "metadata": {},
   "source": [
    "We will represent the new schedule as a 3D matrix X where $X_{ijk} = 1$ if department $i$ is assigned to room $j$ on day $k$.\n",
    "\n",
    "We want to minimze the total under-allocation of hours as we transfer from the old schedule to the new schedule. The variable $s_i$ represents the under-allocation for each department, while the variable $t_i$ represents the ideal time that would result in a perfect scaling of time from the old schedule to the new schedule, which is impossible due to room and day restrictions. The variable $a_i$ represents the total time assigned to department $i$, which is determined by the total duration of room $i$ on day $k$ ($d_{jk}$) and which department holds which room on which days ($x_{ijk}$)."
   ]
  },
  {
   "cell_type": "markdown",
   "metadata": {},
   "source": [
    "\\begin{align}\n",
    "{\\text{min}} \\;\\; & \\sum_{i=1}^6 \\frac{s_i}{t_i} \\\\\n",
    "\\text{s.t. } & s_i \\geq t_i - a_i, \\\\\n",
    "& a_i = \\sum_{j = 1}^5 \\sum_{k = 1}^5 d_{jk} * x_{ijk}, \\\\\n",
    "& s_i \\geq 0, \\\\\n",
    "& \\sum_{i = 1}^6 x_{ijk} = 1, \\\\\n",
    "\\end{align}"
   ]
  },
  {
   "cell_type": "code",
   "execution_count": 19,
   "metadata": {},
   "outputs": [],
   "source": [
    "from gurobipy import *\n",
    "import numpy as np\n",
    "\n",
    "# initialize target and duration vectors\n",
    "total_hrs = 213.5\n",
    "percents = np.array([0.484, 0.042, 0.253, 0.074, 0.053, 0.095])\n",
    "t = total_hrs * percents\n",
    "d = np.array([[9, 9, 9, 9, 7.5],\n",
    "              [9, 9, 9, 9, 7.5],\n",
    "              [9, 9, 9, 9, 7.5],\n",
    "              [9, 9, 9, 9, 7.5],\n",
    "              [9, 8, 8, 8, 6.5]])\n",
    "\n",
    "# initialize model\n",
    "mod_a = Model()\n",
    "\n",
    "# set ranges for iteration\n",
    "m = 6 # range for i (dept)\n",
    "n = 5 # range for j (rooms)\n",
    "r = 5 # range for k (days)\n",
    "\n",
    "# initialize 3D matrix to represent schedule\n",
    "x = mod_a.addVars(m, n, r, vtype = GRB.BINARY)\n",
    "# initialize vector of assigned hours\n",
    "a = mod_a.addVars(m)\n",
    "# initialize under-allocation vector\n",
    "s = mod_a.addVars(m)\n",
    "\n",
    "# compute actual hours assigned\n",
    "for i in range(m):\n",
    "    mod_a.addConstr(a[i] == sum(sum(d[k][j] * x[i, j, k] for j in range(n)) for k in range(r)))\n",
    "\n",
    "# constraint on s vector values\n",
    "for i in range(m):\n",
    "    mod_a.addConstr(s[i] >= t[i] - a[i])\n",
    "\n",
    "# only penalize under-allocation\n",
    "for i in range(m):\n",
    "    mod_a.addConstr(s[i] >= 0.0)\n",
    "        \n",
    "# limit each room to 1 department per day\n",
    "for j in range(n):\n",
    "    for k in range(r):\n",
    "        mod_a.addConstr(sum(x[i, j, k] for i in range(m)) <= 1)\n",
    "\n",
    "# contruct objective\n",
    "mod_a.setObjective(sum(s[i] / t[i] for i in range(m)), GRB.MINIMIZE)\n"
   ]
  },
  {
   "cell_type": "code",
   "execution_count": 20,
   "metadata": {},
   "outputs": [
    {
     "name": "stdout",
     "output_type": "stream",
     "text": [
      "Gurobi Optimizer version 9.1.0 build v9.1.0rc0 (win64)\n",
      "Thread count: 2 physical cores, 4 logical processors, using up to 4 threads\n",
      "Optimize a model with 43 rows, 162 columns and 324 nonzeros\n",
      "Model fingerprint: 0xac70c4e1\n",
      "Variable types: 12 continuous, 150 integer (150 binary)\n",
      "Coefficient statistics:\n",
      "  Matrix range     [1e+00, 9e+00]\n",
      "  Objective range  [1e-02, 1e-01]\n",
      "  Bounds range     [1e+00, 1e+00]\n",
      "  RHS range        [1e+00, 1e+02]\n",
      "Found heuristic solution: objective 6.0000000\n",
      "Found heuristic solution: objective 6.0000000\n",
      "Presolve removed 12 rows and 6 columns\n",
      "Presolve time: 0.00s\n",
      "Presolved: 31 rows, 156 columns, 306 nonzeros\n",
      "Variable types: 4 continuous, 152 integer (150 binary)\n",
      "\n",
      "Root relaxation: objective 2.066116e-03, 58 iterations, 0.00 seconds\n",
      "\n",
      "    Nodes    |    Current Node    |     Objective Bounds      |     Work\n",
      " Expl Unexpl |  Obj  Depth IntInf | Incumbent    BestBd   Gap | It/Node Time\n",
      "\n",
      "     0     0    0.00207    0    8    6.00000    0.00207   100%     -    0s\n",
      "H    0     0                       0.7678230    0.00207   100%     -    0s\n",
      "H    0     0                       0.6199987    0.00207   100%     -    0s\n",
      "H    0     0                       0.5925731    0.00207   100%     -    0s\n",
      "H    0     0                       0.1873890    0.00207  98.9%     -    0s\n",
      "     0     0    0.02804    0   11    0.18739    0.02804  85.0%     -    0s\n",
      "     0     0    0.02837    0   15    0.18739    0.02837  84.9%     -    0s\n",
      "     0     0    0.05113    0   13    0.18739    0.05113  72.7%     -    0s\n",
      "H    0     0                       0.0607418    0.05113  15.8%     -    0s\n",
      "*    0     0               0       0.0519060    0.05191  0.00%     -    0s\n",
      "\n",
      "Cutting planes:\n",
      "  Cover: 2\n",
      "  MIR: 6\n",
      "  RLT: 3\n",
      "\n",
      "Explored 1 nodes (290 simplex iterations) in 0.05 seconds\n",
      "Thread count was 4 (of 4 available processors)\n",
      "\n",
      "Solution count 8: 0.051906 0.0607418 0.187389 ... 6\n",
      "\n",
      "Optimal solution found (tolerance 1.00e-04)\n",
      "Best objective 5.190597648318e-02, best bound 5.190597648318e-02, gap 0.0000%\n"
     ]
    }
   ],
   "source": [
    "# update and solve the model\n",
    "mod_a.update()\n",
    "mod_a.optimize()\n"
   ]
  },
  {
   "cell_type": "code",
   "execution_count": 21,
   "metadata": {},
   "outputs": [
    {
     "name": "stdout",
     "output_type": "stream",
     "text": [
      "Optimal cost: 0.05190597648318144\n"
     ]
    }
   ],
   "source": [
    "# retrieve optimal value and optimal solution\n",
    "opt_val = mod_a.objval\n",
    "print(\"Optimal cost:\", opt_val)\n"
   ]
  },
  {
   "cell_type": "code",
   "execution_count": 22,
   "metadata": {},
   "outputs": [
    {
     "name": "stdout",
     "output_type": "stream",
     "text": [
      "[-0.0, 1.0, 1.0, 1.0, -0.0, 1.0, 1.0, 1.0, -0.0, 1.0, 0.0, 1.0, 1.0, -0.0, -0.0, -0.0, 1.0, -0.0, 1.0, -0.0, -0.0, -0.0, -0.0, -0.0, -0.0, -0.0, -0.0, -0.0, -0.0, 0.0, 0.0, 0.0, -0.0, -0.0, -0.0, -0.0, 0.0, -0.0, 1.0, 0.0, 0.0, -0.0, -0.0, -0.0, -0.0, -0.0, -0.0, -0.0, -0.0, -0.0, 1.0, 0.0, -0.0, -0.0, 1.0, 0.0, -0.0, 0.0, 1.0, 0.0, 1.0, -0.0, 0.0, -0.0, 0.0, 1.0, 0.0, 1.0, 0.0, 0.0, -0.0, -0.0, -0.0, -0.0, -0.0, -0.0, -0.0, -0.0, -0.0, -0.0, -0.0, -0.0, -0.0, -0.0, -0.0, -0.0, -0.0, -0.0, -0.0, 1.0, -0.0, -0.0, -0.0, -0.0, 1.0, 0.0, -0.0, -0.0, 0.0, -0.0, -0.0, -0.0, -0.0, -0.0, -0.0, -0.0, -0.0, -0.0, -0.0, -0.0, -0.0, -0.0, -0.0, -0.0, -0.0, -0.0, -0.0, -0.0, -0.0, -0.0, 1.0, 0.0, 0.0, -0.0, 1.0, -0.0, -0.0, 0.0, 0.0, -0.0, -0.0, -0.0, -0.0, -0.0, -0.0, -0.0, -0.0, -0.0, -0.0, -0.0, -0.0, -0.0, -0.0, -0.0, -0.0, -0.0, 1.0, 1.0, 1.0, 0.0]\n"
     ]
    }
   ],
   "source": [
    "# dsplay x matrix\n",
    "x_opt = [x[i, j, k].x for i in range(m) for j in range(n) for k in range(r)]\n",
    "print(x_opt)\n"
   ]
  },
  {
   "cell_type": "code",
   "execution_count": 23,
   "metadata": {},
   "outputs": [
    {
     "data": {
      "text/plain": [
       "[5.333999999999992, 0.0, 0.015500000000018943, 0.0, 0.0, 0.0]"
      ]
     },
     "execution_count": 23,
     "metadata": {},
     "output_type": "execute_result"
    }
   ],
   "source": [
    "# display penalty vector s\n",
    "s_opt = [s[i].x for i in range(m)]\n",
    "s_opt\n"
   ]
  },
  {
   "cell_type": "markdown",
   "metadata": {},
   "source": [
    "# Part (b)"
   ]
  },
  {
   "cell_type": "markdown",
   "metadata": {},
   "source": [
    "Same problem, but we now incorporate 3 floors (indexed by $l$) with rooms 1 and 2 on floor 1, rooms 3 and 4 on floor 2, and room 5 on floor 3. We don't want to split up departments onto different floors.\n",
    "\n",
    "We initialize a matrix $v$ where $v_{ikl}  = 1$ if departement $i$ is on floor $l$ on day $k$. Then, we just have to modify the previous model by adding the following constraints to account for the floors:\n"
   ]
  },
  {
   "cell_type": "markdown",
   "metadata": {},
   "source": [
    "\\begin{align}\n",
    "& 2v_{1k1} \\geq x_{i1k} + x_{i2k}, \\\\\n",
    "& 2v_{1k2} \\geq x_{i3k} + x_{i4k}, \\\\\n",
    "& v_{1k1} \\geq x_{i5k}, \\\\\n",
    "& \\sum_{l = 1}^3 v_{ikl} \\leq 1\n",
    "\\end{align}"
   ]
  },
  {
   "cell_type": "code",
   "execution_count": 24,
   "metadata": {},
   "outputs": [],
   "source": [
    "from gurobipy import *\n",
    "import numpy as np\n",
    "\n",
    "# initialize target and duration vectors\n",
    "total_hrs = 213.5\n",
    "percents = np.array([0.484, 0.042, 0.253, 0.074, 0.053, 0.095])\n",
    "t = total_hrs * percents\n",
    "d = np.array([[9, 9, 9, 9, 7.5],\n",
    "              [9, 9, 9, 9, 7.5],\n",
    "              [9, 9, 9, 9, 7.5],\n",
    "              [9, 9, 9, 9, 7.5],\n",
    "              [9, 8, 8, 8, 6.5]])\n",
    "\n",
    "# initialize model\n",
    "mod_b = Model()\n",
    "\n",
    "# set ranges for iteration\n",
    "m = 6 # range for i (dept)\n",
    "n = 5 # range for j (rooms)\n",
    "r = 5 # range for k (days)\n",
    "u = 3 # range for l (floors)\n",
    "\n",
    "# initialize 3D matrix to represent schedule\n",
    "x = mod_b.addVars(m, n, r, vtype = GRB.BINARY)\n",
    "# initialize vector of assigned hours\n",
    "a = mod_b.addVars(m)\n",
    "# initialize under-allocation vector\n",
    "s = mod_b.addVars(m)\n",
    "# initialize floor tracker\n",
    "v = mod_b.addVars(m, r, u, vtype = GRB.BINARY)\n",
    "\n",
    "# compute actual hours assigned\n",
    "for i in range(m):\n",
    "    mod_b.addConstr(a[i] == sum(sum(d[k][j] * x[i, j, k] for j in range(n)) for k in range(r)))\n",
    "\n",
    "# constraint on s vector values\n",
    "for i in range(m):\n",
    "    mod_b.addConstr(s[i] >= t[i] - a[i])\n",
    "\n",
    "# only penalize under-allocation\n",
    "for i in range(m):\n",
    "    mod_b.addConstr(s[i] >= 0.0)\n",
    "        \n",
    "# limit each room to 1 department per day\n",
    "for j in range(n):\n",
    "    for k in range(r):\n",
    "        mod_b.addConstr(sum(x[i, j, k] for i in range(m)) <= 1)\n",
    "        \n",
    "# don't separate departments by floor\n",
    "for k in range(r):\n",
    "    for i in range(m):\n",
    "        mod_b.addConstr(sum(v[i, k, l] for l in range(u)) <= 1)\n",
    "        \n",
    "# associate rooms with floors\n",
    "for i in range(m):\n",
    "    for k in range(r):\n",
    "        mod_b.addConstr(2 * v[i, k, 0] >= x[i, 0, k] + x[i, 1, k])\n",
    "        mod_b.addConstr(2 * v[i, k, 1] >= x[i, 2, k] + x[i, 3, k])\n",
    "        mod_b.addConstr(v[i, k, 2] >= x[i, 4, k])\n",
    "\n",
    "# contruct objective\n",
    "mod_b.setObjective(sum(s[i] / t[i] for i in range(m)), GRB.MINIMIZE)\n"
   ]
  },
  {
   "cell_type": "code",
   "execution_count": 25,
   "metadata": {},
   "outputs": [
    {
     "name": "stdout",
     "output_type": "stream",
     "text": [
      "Gurobi Optimizer version 9.1.0 build v9.1.0rc0 (win64)\n",
      "Thread count: 2 physical cores, 4 logical processors, using up to 4 threads\n",
      "Optimize a model with 163 rows, 252 columns and 654 nonzeros\n",
      "Model fingerprint: 0x471cd3c4\n",
      "Variable types: 12 continuous, 240 integer (240 binary)\n",
      "Coefficient statistics:\n",
      "  Matrix range     [1e+00, 9e+00]\n",
      "  Objective range  [1e-02, 1e-01]\n",
      "  Bounds range     [1e+00, 1e+00]\n",
      "  RHS range        [1e+00, 1e+02]\n",
      "Found heuristic solution: objective 6.0000000\n",
      "Found heuristic solution: objective 6.0000000\n",
      "Presolve removed 72 rows and 66 columns\n",
      "Presolve time: 0.00s\n",
      "Presolved: 91 rows, 186 columns, 516 nonzeros\n",
      "Variable types: 4 continuous, 182 integer (180 binary)\n",
      "\n",
      "Root relaxation: objective 1.387152e-01, 83 iterations, 0.00 seconds\n",
      "\n",
      "    Nodes    |    Current Node    |     Objective Bounds      |     Work\n",
      " Expl Unexpl |  Obj  Depth IntInf | Incumbent    BestBd   Gap | It/Node Time\n",
      "\n",
      "     0     0    0.13872    0    4    6.00000    0.13872  97.7%     -    0s\n",
      "H    0     0                       0.4112304    0.13872  66.3%     -    0s\n",
      "H    0     0                       0.3585624    0.13872  61.3%     -    0s\n",
      "H    0     0                       0.2796049    0.13872  50.4%     -    0s\n",
      "H    0     0                       0.1671928    0.13872  17.0%     -    0s\n",
      "     0     0    0.13872    0    2    0.16719    0.13872  17.0%     -    0s\n",
      "     0     0    0.13872    0    3    0.16719    0.13872  17.0%     -    0s\n",
      "     0     0    0.13872    0    6    0.16719    0.13872  17.0%     -    0s\n",
      "     0     0    0.13872    0   10    0.16719    0.13872  17.0%     -    0s\n",
      "     0     0    0.13872    0    3    0.16719    0.13872  17.0%     -    0s\n",
      "     0     0    0.13872    0    8    0.16719    0.13872  17.0%     -    0s\n",
      "     0     0    0.13872    0    2    0.16719    0.13872  17.0%     -    0s\n",
      "     0     0    0.13872    0    2    0.16719    0.13872  17.0%     -    0s\n",
      "     0     2    0.13872    0    2    0.16719    0.13872  17.0%     -    0s\n",
      "H    8    10                       0.1576405    0.13872  12.0%   8.8    0s\n",
      "H    9    12                       0.1387152    0.13872  0.00%   8.0    0s\n",
      "\n",
      "Cutting planes:\n",
      "  Cover: 7\n",
      "  Clique: 1\n",
      "  StrongCG: 3\n",
      "\n",
      "Explored 11 nodes (428 simplex iterations) in 0.12 seconds\n",
      "Thread count was 4 (of 4 available processors)\n",
      "\n",
      "Solution count 8: 0.138715 0.15764 0.167193 ... 6\n",
      "\n",
      "Optimal solution found (tolerance 1.00e-04)\n",
      "Best objective 1.387152340953e-01, best bound 1.387152340953e-01, gap 0.0000%\n"
     ]
    }
   ],
   "source": [
    "# update and solve the model\n",
    "mod_b.update()\n",
    "mod_b.optimize()\n"
   ]
  },
  {
   "cell_type": "code",
   "execution_count": 26,
   "metadata": {},
   "outputs": [
    {
     "name": "stdout",
     "output_type": "stream",
     "text": [
      "Optimal cost: 0.1387152340952639\n"
     ]
    }
   ],
   "source": [
    "# retrieve optimal value and optimal solution\n",
    "opt_val = mod_b.objval\n",
    "print(\"Optimal cost:\", opt_val)\n"
   ]
  },
  {
   "cell_type": "code",
   "execution_count": 27,
   "metadata": {},
   "outputs": [
    {
     "name": "stdout",
     "output_type": "stream",
     "text": [
      "[1.0, -0.0, -0.0, -0.0, 1.0, 1.0, -0.0, -0.0, -0.0, 1.0, -0.0, 1.0, 1.0, 1.0, -0.0, -0.0, 1.0, 1.0, 1.0, -0.0, -0.0, -0.0, -0.0, -0.0, -0.0, -0.0, -0.0, -0.0, -0.0, -0.0, -0.0, -0.0, 1.0, -0.0, -0.0, -0.0, -0.0, -0.0, -0.0, -0.0, -0.0, -0.0, -0.0, -0.0, -0.0, -0.0, -0.0, -0.0, -0.0, -0.0, -0.0, -0.0, -0.0, 1.0, -0.0, -0.0, -0.0, -0.0, 1.0, -0.0, 0.0, -0.0, -0.0, -0.0, 1.0, 1.0, -0.0, -0.0, -0.0, 1.0, -0.0, 1.0, 1.0, -0.0, -0.0, -0.0, -0.0, -0.0, -0.0, -0.0, -0.0, -0.0, -0.0, -0.0, -0.0, 1.0, -0.0, -0.0, -0.0, -0.0, -0.0, -0.0, -0.0, -0.0, -0.0, -0.0, -0.0, -0.0, 1.0, -0.0, -0.0, -0.0, -0.0, -0.0, -0.0, -0.0, -0.0, -0.0, -0.0, -0.0, -0.0, -0.0, -0.0, -0.0, -0.0, -0.0, -0.0, -0.0, -0.0, -0.0, 1.0, -0.0, -0.0, 0.0, 1.0, -0.0, 1.0, 1.0, -0.0, -0.0, -0.0, 1.0, -0.0, -0.0, -0.0, -0.0, -0.0, -0.0, -0.0, -0.0, -0.0, -0.0, -0.0, -0.0, -0.0, -0.0, -0.0, -0.0, -0.0, -0.0]\n"
     ]
    }
   ],
   "source": [
    "# dsplay x matrix\n",
    "x_opt = [x[i, j, k].x for i in range(m) for j in range(n) for k in range(r)]\n",
    "print(x_opt)\n"
   ]
  },
  {
   "cell_type": "code",
   "execution_count": 28,
   "metadata": {},
   "outputs": [
    {
     "name": "stdout",
     "output_type": "stream",
     "text": [
      "[1.0, -0.0, 0.0, 0.0, 1.0, 0.0, 0.0, 1.0, 0.0, 0.0, 1.0, 0.0, 1.0, -0.0, 0.0, 1.0, -0.0, 0.0, 1.0, -0.0, 0.0, 1.0, -0.0, 0.0, 1.0, -0.0, 0.0, 0.0, 1.0, 0.0, 0.0, 1.0, 0.0, 0.0, -0.0, 1.0, 0.0, 0.0, 1.0, 1.0, -0.0, 0.0, 0.0, 1.0, 0.0, 0.0, 1.0, 0.0, 1.0, -0.0, 0.0, 1.0, -0.0, 0.0, 0.0, -0.0, 1.0, 0.0, 1.0, 0.0, 0.0, -0.0, 1.0, 1.0, -0.0, 0.0, 1.0, -0.0, 0.0, 1.0, -0.0, 0.0, 0.0, 0.0, 1.0, 1.0, 0.0, 0.0, 1.0, -0.0, 0.0, 1.0, -0.0, 0.0, 1.0, -0.0, 0.0, 1.0, -0.0, 0.0]\n"
     ]
    }
   ],
   "source": [
    "# display v matrix\n",
    "v_opt = [v[i, k, l].x for i in range(m) for k in range(r) for l in range(u)]\n",
    "print(v_opt)\n"
   ]
  },
  {
   "cell_type": "code",
   "execution_count": 29,
   "metadata": {},
   "outputs": [
    {
     "data": {
      "text/plain": [
       "[14.334, 0.0, 0.0, 0.0, 0.0, 0.0]"
      ]
     },
     "execution_count": 29,
     "metadata": {},
     "output_type": "execute_result"
    }
   ],
   "source": [
    "# display penalty vector s\n",
    "s_opt = [s[i].x for i in range(m)]\n",
    "s_opt\n"
   ]
  }
 ],
 "metadata": {
  "kernelspec": {
   "display_name": "Python 3",
   "language": "python",
   "name": "python3"
  },
  "language_info": {
   "codemirror_mode": {
    "name": "ipython",
    "version": 3
   },
   "file_extension": ".py",
   "mimetype": "text/x-python",
   "name": "python",
   "nbconvert_exporter": "python",
   "pygments_lexer": "ipython3",
   "version": "3.7.9"
  }
 },
 "nbformat": 4,
 "nbformat_minor": 4
}
