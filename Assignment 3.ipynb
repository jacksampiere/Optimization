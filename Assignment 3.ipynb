{
 "cells": [
  {
   "cell_type": "code",
   "execution_count": 1,
   "metadata": {},
   "outputs": [],
   "source": [
    "# import gurobi and numpy\n",
    "from gurobipy import *\n",
    "import numpy as np\n",
    "from numpy import genfromtxt\n",
    "import csv\n",
    "\n",
    "# get variable names\n",
    "with open('AirbnbTest.csv') as csvFile:\n",
    "    reader = csv.reader(csvFile)\n",
    "    feat_names = next(reader)\n",
    "\n",
    "# load data\n",
    "train = genfromtxt('AirbnbTrain.csv', delimiter=',', skip_header = 1)\n",
    "test = genfromtxt('AirbnbTest.csv', delimiter=',', skip_header = 1)\n",
    "\n",
    "# separate features from prices\n",
    "feat_train = train[:, :-1]\n",
    "prices_train = train[:, -1]\n",
    "\n",
    "# remove rows with nan\n",
    "feat_mask = ~np.any(np.isnan(feat_train), axis=1)\n",
    "feat_train = feat_train[feat_mask]\n",
    "# remove corresponding prices\n",
    "prices_train = prices_train[feat_mask]\n",
    "\n",
    "feat_test = test[:, :-1]\n",
    "prices_test = test[:, -1]\n"
   ]
  },
  {
   "cell_type": "markdown",
   "metadata": {},
   "source": [
    "# Model 1"
   ]
  },
  {
   "cell_type": "code",
   "execution_count": 2,
   "metadata": {},
   "outputs": [
    {
     "name": "stdout",
     "output_type": "stream",
     "text": [
      "Using license file C:\\Users\\HP\\gurobi.lic\n",
      "Academic license - for non-commercial use only - expires 2021-01-27\n"
     ]
    }
   ],
   "source": [
    "# initialize model\n",
    "mod_1 = Model()\n",
    "\n",
    "# number of features\n",
    "d = 12\n",
    "# number of samples\n",
    "n = 1698\n",
    "\n",
    "# initialize beta vector variables\n",
    "beta_vec_1 = mod_1.addVars(d)\n",
    "# initialize error vector\n",
    "e_1 = mod_1.addVars(n)\n",
    "\n",
    "# compute error by accounting for absolute value\n",
    "for i in range(n):\n",
    "    mod_1.addConstr(\n",
    "        e_1[i] >= prices_train[i] - sum(beta_vec_1[j] * feat_train[i][j] for j in range(d))\n",
    "    )\n",
    "    mod_1.addConstr(\n",
    "        e_1[i] >= sum(beta_vec_1[j] * feat_train[i][j] for j in range(d)) - prices_train[i]\n",
    "    )\n",
    "\n",
    "# initialize objective value\n",
    "mod_1.setObjective((1 / n) * sum(e_1[i] for i in range(n)), GRB.MINIMIZE)\n"
   ]
  },
  {
   "cell_type": "code",
   "execution_count": 3,
   "metadata": {},
   "outputs": [
    {
     "name": "stdout",
     "output_type": "stream",
     "text": [
      "Gurobi Optimizer version 9.1.0 build v9.1.0rc0 (win64)\n",
      "Thread count: 2 physical cores, 4 logical processors, using up to 4 threads\n",
      "Optimize a model with 3396 rows, 1710 columns and 41324 nonzeros\n",
      "Model fingerprint: 0x837d49d5\n",
      "Coefficient statistics:\n",
      "  Matrix range     [5e-01, 5e+02]\n",
      "  Objective range  [6e-04, 6e-04]\n",
      "  Bounds range     [0e+00, 0e+00]\n",
      "  RHS range        [1e+01, 2e+03]\n",
      "\n",
      "Concurrent LP optimizer: dual simplex and barrier\n",
      "Showing barrier log only...\n",
      "\n",
      "Presolve time: 0.04s\n",
      "Presolved: 3396 rows, 1710 columns, 41324 nonzeros\n",
      "\n",
      "Ordering time: 0.00s\n",
      "\n",
      "Barrier statistics:\n",
      " Dense cols : 12\n",
      " AA' NZ     : 3.963e+04\n",
      " Factor NZ  : 4.310e+04 (roughly 2 MBytes of memory)\n",
      " Factor Ops : 5.486e+05 (less than 1 second per iteration)\n",
      " Threads    : 1\n",
      "\n",
      "                  Objective                Residual\n",
      "Iter       Primal          Dual         Primal    Dual     Compl     Time\n",
      "   0   2.12287784e+03  0.00000000e+00  1.36e+03 0.00e+00  2.67e+01     0s\n",
      "   1   1.62106388e+03  1.35470661e+00  0.00e+00 6.13e-04  2.66e+00     0s\n",
      "   2   1.58661477e+02  4.56118071e+00  0.00e+00 9.49e-05  2.44e-01     0s\n",
      "   3   4.39773673e+01  1.59787362e+01  0.00e+00 2.26e-05  4.40e-02     0s\n",
      "   4   3.87966361e+01  3.27408234e+01  0.00e+00 0.00e+00  9.49e-03     0s\n",
      "   5   3.72182178e+01  3.50635679e+01  0.00e+00 0.00e+00  3.38e-03     0s\n",
      "   6   3.67106669e+01  3.61749426e+01  0.00e+00 0.00e+00  8.39e-04     0s\n",
      "   7   3.65289334e+01  3.62851389e+01  0.00e+00 0.00e+00  3.82e-04     0s\n",
      "   8   3.64476383e+01  3.63770742e+01  0.00e+00 0.00e+00  1.11e-04     0s\n",
      "   9   3.64105205e+01  3.63989561e+01  0.00e+00 0.00e+00  1.81e-05     0s\n",
      "  10   3.64058049e+01  3.64045873e+01  0.00e+00 0.00e+00  1.91e-06     0s\n",
      "  11   3.64054557e+01  3.64051760e+01  0.00e+00 0.00e+00  4.38e-07     0s\n",
      "  12   3.64053835e+01  3.64053774e+01  0.00e+00 1.65e-10  9.44e-09     0s\n",
      "  13   3.64053829e+01  3.64053828e+01  0.00e+00 1.05e-09  9.44e-12     0s\n",
      "\n",
      "Barrier solved model in 13 iterations and 0.17 seconds\n",
      "Optimal objective 3.64053829e+01\n",
      "\n",
      "Crossover log...\n",
      "\n",
      "      26 DPushes remaining with DInf 0.0000000e+00                 0s\n",
      "       0 DPushes remaining with DInf 0.0000000e+00                 0s\n",
      "\n",
      "       0 PPushes remaining with PInf 0.0000000e+00                 0s\n",
      "\n",
      "  Push phase complete: Pinf 0.0000000e+00, Dinf 3.7600131e-15      0s\n",
      "\n",
      "Iteration    Objective       Primal Inf.    Dual Inf.      Time\n",
      "      28    3.6405383e+01   0.000000e+00   0.000000e+00      0s\n",
      "\n",
      "Solved with barrier\n",
      "Solved in 28 iterations and 0.21 seconds\n",
      "Optimal objective  3.640538295e+01\n"
     ]
    }
   ],
   "source": [
    "# update and solve model\n",
    "mod_1.update()\n",
    "mod_1.optimize()\n"
   ]
  },
  {
   "cell_type": "code",
   "execution_count": 4,
   "metadata": {},
   "outputs": [
    {
     "name": "stdout",
     "output_type": "stream",
     "text": [
      "Minimum error: 36.40538294619911\n"
     ]
    }
   ],
   "source": [
    "# display optimal error value (on training set)\n",
    "opt_val_1 = mod_1.objval\n",
    "print(\"Minimum error:\", opt_val_1)\n"
   ]
  },
  {
   "cell_type": "code",
   "execution_count": 6,
   "metadata": {},
   "outputs": [
    {
     "name": "stdout",
     "output_type": "stream",
     "text": [
      "306.94902983495786\n",
      "88.84144342711934\n",
      "36.926152475997654\n",
      "9.962147072793314\n",
      "31.47343459217322\n",
      "19.877157981000167\n",
      "0.0\n",
      "0.31096103666759495\n",
      "0.0\n",
      "0.0\n",
      "0.26541922446623234\n",
      "5.038274571440098\n"
     ]
    }
   ],
   "source": [
    "# display beta vector\n",
    "for j in range(d):\n",
    "    print(beta_vec_1[j].x)\n"
   ]
  },
  {
   "cell_type": "markdown",
   "metadata": {},
   "source": [
    "What is the prediction error, in $/night, of your model on the test set (provided in AirbnbTest.csv)?"
   ]
  },
  {
   "cell_type": "code",
   "execution_count": 7,
   "metadata": {},
   "outputs": [
    {
     "name": "stdout",
     "output_type": "stream",
     "text": [
      "Mean prediction error on test set: 35.61 $/night\n"
     ]
    }
   ],
   "source": [
    "# size of test set\n",
    "n_test = len(prices_test)\n",
    "# initialize list of errors for each sample\n",
    "pred_error = [0 for i in range(n_test)]\n",
    "# compute prediction error for each sample\n",
    "for i in range(n_test):\n",
    "    true_price = prices_test[i]\n",
    "    pred_price = sum(beta_vec_1[j].x * feat_test[i][j] for j in range(d))\n",
    "    pred_error[i] = abs(true_price - pred_price)\n",
    "    \n",
    "# compute mean error and display\n",
    "print(f'Mean prediction error on test set: {sum(pred_error) / n_test:.2f} $/night')\n"
   ]
  },
  {
   "cell_type": "markdown",
   "metadata": {},
   "source": [
    "# Model 2"
   ]
  },
  {
   "cell_type": "code",
   "execution_count": 9,
   "metadata": {},
   "outputs": [],
   "source": [
    "# initialize model\n",
    "mod_2 = Model()\n",
    "\n",
    "# number of features\n",
    "d = 12\n",
    "# number of features allowed in regression\n",
    "k = 3\n",
    "# number of samples\n",
    "n = 1698\n",
    "\n",
    "# initialize beta vector variable\n",
    "beta_vec_2 = mod_2.addVars(d)\n",
    "# initialize binary indicator of whether or not a given variable has a nonzero coefficient\n",
    "indicator_2 = mod_2.addVars(d, vtype = GRB.BINARY)\n",
    "# initialize error vector\n",
    "e_2 = mod_2.addVars(n)\n",
    "\n",
    "# compute error by accounting for absolute value\n",
    "for i in range(n):\n",
    "    mod_2.addConstr(e_2[i] >= prices_train[i] -\n",
    "                    sum(beta_vec_2[j] * feat_train[i][j] * indicator_2[j] for j in range(d)))\n",
    "    mod_2.addConstr(\n",
    "        e_2[i] >= sum(beta_vec_2[j] * feat_train[i][j] * indicator_2[j] for j in range(d)) -\n",
    "                    prices_train[i]\n",
    "    )\n",
    "\n",
    "# restrict number of features in regression\n",
    "mod_2.addConstr(sum(indicator_2[j] for j in range(d)) <= k)\n",
    "\n",
    "# initialize objective value\n",
    "mod_2.setObjective((1 / n) * sum(e_2[i] for i in range(n)), GRB.MINIMIZE)\n"
   ]
  },
  {
   "cell_type": "code",
   "execution_count": 10,
   "metadata": {},
   "outputs": [
    {
     "name": "stdout",
     "output_type": "stream",
     "text": [
      "Gurobi Optimizer version 9.1.0 build v9.1.0rc0 (win64)\n",
      "Thread count: 2 physical cores, 4 logical processors, using up to 4 threads\n",
      "Optimize a model with 1 rows, 1722 columns and 12 nonzeros\n",
      "Model fingerprint: 0xad44c584\n",
      "Model has 3396 quadratic constraints\n",
      "Variable types: 1710 continuous, 12 integer (12 binary)\n",
      "Coefficient statistics:\n",
      "  Matrix range     [1e+00, 1e+00]\n",
      "  QMatrix range    [5e-01, 5e+02]\n",
      "  QLMatrix range   [1e+00, 1e+00]\n",
      "  Objective range  [6e-04, 6e-04]\n",
      "  Bounds range     [1e+00, 1e+00]\n",
      "  RHS range        [3e+00, 3e+00]\n",
      "  QRHS range       [1e+01, 2e+03]\n",
      "Found heuristic solution: objective 2.000000e+09\n",
      "Presolve added 822 rows and 409 columns\n",
      "Presolve time: 0.25s\n",
      "Presolved: 3417 rows, 2167 columns, 32930 nonzeros\n",
      "Presolved model has 24 SOS constraint(s)\n",
      "Variable types: 2143 continuous, 24 integer (24 binary)\n",
      "\n",
      "Root relaxation: objective 3.640538e+01, 2741 iterations, 0.32 seconds\n",
      "\n",
      "    Nodes    |    Current Node    |     Objective Bounds      |     Work\n",
      " Expl Unexpl |  Obj  Depth IntInf | Incumbent    BestBd   Gap | It/Node Time\n",
      "\n",
      "     0     0   36.40538    0    9 2.0000e+09   36.40538   100%     -    0s\n",
      "H    0     0                     144.9593640   36.40538  74.9%     -    0s\n",
      "     0     0   36.40538    0    9  144.95936   36.40538  74.9%     -    0s\n",
      "     0     2   36.40538    0    9  144.95936   36.40538  74.9%     -    1s\n",
      "*    9    10               3      48.0877674   36.43862  24.2%   153    1s\n",
      "*   12    10               4      39.1844523   36.43862  7.01%   174    1s\n",
      "*   16     8               5      38.3056537   36.43862  4.87%   159    1s\n",
      "\n",
      "Explored 45 nodes (6972 simplex iterations) in 1.80 seconds\n",
      "Thread count was 4 (of 4 available processors)\n",
      "\n",
      "Solution count 5: 38.3057 39.1845 48.0878 ... 2e+09\n",
      "\n",
      "Optimal solution found (tolerance 1.00e-04)\n",
      "Best objective 3.830565371025e+01, best bound 3.830565371025e+01, gap 0.0000%\n"
     ]
    }
   ],
   "source": [
    "# update and solve model\n",
    "mod_2.update()\n",
    "mod_2.optimize()\n"
   ]
  },
  {
   "cell_type": "code",
   "execution_count": 11,
   "metadata": {},
   "outputs": [
    {
     "name": "stdout",
     "output_type": "stream",
     "text": [
      "Minimum error: 38.30565371024743\n"
     ]
    }
   ],
   "source": [
    "# display optimal error value (on training set)\n",
    "opt_val_2 = mod_2.objval\n",
    "print(\"Minimum error:\", opt_val_2)\n"
   ]
  },
  {
   "cell_type": "markdown",
   "metadata": {},
   "source": [
    "a) List the names and coefficients of the three variables selected by the optimization model."
   ]
  },
  {
   "cell_type": "code",
   "execution_count": 13,
   "metadata": {},
   "outputs": [
    {
     "name": "stdout",
     "output_type": "stream",
     "text": [
      "Entire home: 52.0\n",
      "accommodates: 14.0\n",
      "bedrooms: 32.0\n"
     ]
    }
   ],
   "source": [
    "for j in range(d):\n",
    "    if beta_vec_2[j].x != 0:\n",
    "        print(f'{feat_names[j]}: {beta_vec_2[j].x}')\n",
    "    "
   ]
  },
  {
   "cell_type": "markdown",
   "metadata": {},
   "source": [
    "b) What is the new prediction error, in $/night, of Model 2?"
   ]
  },
  {
   "cell_type": "code",
   "execution_count": 14,
   "metadata": {},
   "outputs": [
    {
     "name": "stdout",
     "output_type": "stream",
     "text": [
      "Mean prediction error on test set: 37.74 $/night\n"
     ]
    }
   ],
   "source": [
    "# size of test set\n",
    "n_test = len(prices_test)\n",
    "# initialize list of errors for each sample\n",
    "pred_error = [0 for i in range(n_test)]\n",
    "# compute prediction error for each sample\n",
    "for i in range(n_test):\n",
    "    true_price = prices_test[i]\n",
    "    pred_price = sum(beta_vec_2[j].x * feat_test[i][j] for j in range(d))\n",
    "    pred_error[i] = abs(true_price - pred_price)\n",
    "    \n",
    "# compute mean error and display\n",
    "print(f'Mean prediction error on test set: {sum(pred_error) / n_test:.2f} $/night')\n"
   ]
  },
  {
   "cell_type": "markdown",
   "metadata": {},
   "source": [
    "# Model 3"
   ]
  },
  {
   "cell_type": "code",
   "execution_count": 15,
   "metadata": {},
   "outputs": [],
   "source": [
    "# initialize model\n",
    "mod_3 = Model()\n",
    "\n",
    "# number of features\n",
    "d = 12\n",
    "# number of features allowed in regression\n",
    "k = 3\n",
    "# number of samples\n",
    "n = 1698\n",
    "\n",
    "# initialize beta vector variable\n",
    "beta_vec_3 = mod_3.addVars(d)\n",
    "# initialize binary indicator of whether or not a given variable has a nonzero coefficient\n",
    "indicator_3 = mod_3.addVars(d, vtype = GRB.BINARY)\n",
    "# initialize error vector\n",
    "e_3 = mod_3.addVars(n)\n",
    "\n",
    "# compute error by accounting for absolute value\n",
    "for i in range(n):\n",
    "    mod_3.addConstr(\n",
    "        e_3[i] >= prices_train[i] -\n",
    "                    sum(beta_vec_3[j] * feat_train[i][j] * indicator_3[j] for j in range(d))\n",
    "    )\n",
    "    mod_3.addConstr(\n",
    "        e_3[i] >= sum(beta_vec_3[j] * feat_train[i][j] * indicator_3[j] for j in range(d)) -\n",
    "                    prices_train[i]\n",
    "    )\n",
    "\n",
    "# require number of beds to be selected as a predictor\n",
    "idx_beds = feat_names.index('beds')\n",
    "mod_3.addConstr(indicator_3[idx_beds] == 1)\n",
    "    \n",
    "# restrict number of features in regression\n",
    "mod_3.addConstr(sum(indicator_3[j] for j in range(d)) <= k)\n",
    "\n",
    "# initialize objective value\n",
    "mod_3.setObjective((1 / n) * sum(e_3[i] for i in range(n)), GRB.MINIMIZE)\n"
   ]
  },
  {
   "cell_type": "code",
   "execution_count": 16,
   "metadata": {},
   "outputs": [
    {
     "name": "stdout",
     "output_type": "stream",
     "text": [
      "Gurobi Optimizer version 9.1.0 build v9.1.0rc0 (win64)\n",
      "Thread count: 2 physical cores, 4 logical processors, using up to 4 threads\n",
      "Optimize a model with 2 rows, 1722 columns and 13 nonzeros\n",
      "Model fingerprint: 0x3cd5a632\n",
      "Model has 3396 quadratic constraints\n",
      "Variable types: 1710 continuous, 12 integer (12 binary)\n",
      "Coefficient statistics:\n",
      "  Matrix range     [1e+00, 1e+00]\n",
      "  QMatrix range    [5e-01, 5e+02]\n",
      "  QLMatrix range   [1e+00, 1e+00]\n",
      "  Objective range  [6e-04, 6e-04]\n",
      "  Bounds range     [1e+00, 1e+00]\n",
      "  RHS range        [1e+00, 3e+00]\n",
      "  QRHS range       [1e+01, 2e+03]\n",
      "Presolve added 821 rows and 408 columns\n",
      "Presolve time: 0.24s\n",
      "Presolved: 3415 rows, 2163 columns, 32924 nonzeros\n",
      "Presolved model has 22 SOS constraint(s)\n",
      "Variable types: 2141 continuous, 22 integer (22 binary)\n",
      "Found heuristic solution: objective 60.4690813\n",
      "\n",
      "Root relaxation: objective 3.640538e+01, 2467 iterations, 0.28 seconds\n",
      "\n",
      "    Nodes    |    Current Node    |     Objective Bounds      |     Work\n",
      " Expl Unexpl |  Obj  Depth IntInf | Incumbent    BestBd   Gap | It/Node Time\n",
      "\n",
      "     0     0   36.40538    0    9   60.46908   36.40538  39.8%     -    0s\n",
      "     0     0   36.40538    0    9   60.46908   36.40538  39.8%     -    0s\n",
      "     0     2   36.40538    0    9   60.46908   36.40538  39.8%     -    0s\n",
      "*    3     4               2      48.6454003   36.40538  25.2%   198    1s\n",
      "*   10     8               3      41.6750883   37.54348  9.91%   204    1s\n",
      "*   14    10               4      40.2675562   37.99539  5.64%   215    1s\n",
      "*   22     5               4      40.0506478   37.99539  5.13%   207    1s\n",
      "\n",
      "Explored 30 nodes (7241 simplex iterations) in 1.59 seconds\n",
      "Thread count was 4 (of 4 available processors)\n",
      "\n",
      "Solution count 5: 40.0506 40.2676 41.6751 ... 60.4691\n",
      "\n",
      "Optimal solution found (tolerance 1.00e-04)\n",
      "Best objective 4.005064782097e+01, best bound 4.005064782097e+01, gap 0.0000%\n"
     ]
    }
   ],
   "source": [
    "# update and solve model (on training set)\n",
    "mod_3.update()\n",
    "mod_3.optimize()\n"
   ]
  },
  {
   "cell_type": "code",
   "execution_count": 17,
   "metadata": {},
   "outputs": [
    {
     "name": "stdout",
     "output_type": "stream",
     "text": [
      "Minimum error: 40.05064782096585\n"
     ]
    }
   ],
   "source": [
    "# display optimal error value\n",
    "opt_val_3 = mod_3.objval\n",
    "print(\"Minimum error:\", opt_val_3)\n"
   ]
  },
  {
   "cell_type": "markdown",
   "metadata": {},
   "source": [
    "a) List the names and coefficients of the two other variables selected by the optimization model."
   ]
  },
  {
   "cell_type": "code",
   "execution_count": 18,
   "metadata": {},
   "outputs": [
    {
     "name": "stdout",
     "output_type": "stream",
     "text": [
      "Entire home: 67.875\n",
      "bedrooms: 47.375\n"
     ]
    }
   ],
   "source": [
    "for j in range(d):\n",
    "    if beta_vec_3[j].x != 0 and feat_names[j] != 'beds':\n",
    "        print(f'{feat_names[j]}: {beta_vec_3[j].x}')\n"
   ]
  },
  {
   "cell_type": "markdown",
   "metadata": {},
   "source": [
    "b) Which variable was in Model 2 but is no longer in Model 3? Briefly explain in 1-2 sentences\n",
    "why this variable might have been dropped."
   ]
  },
  {
   "cell_type": "markdown",
   "metadata": {},
   "source": [
    "The variable 'accomodates' was in Model 2 but is no longer in Model 3. This is likely the case since the number of beds is closely related to the number of accomodates and thus the benefit of including the number of accomodates in our model is much lower when we already include the number of beds."
   ]
  },
  {
   "cell_type": "markdown",
   "metadata": {},
   "source": [
    "c) What is the new prediction error, in $/night, of Model 3?"
   ]
  },
  {
   "cell_type": "code",
   "execution_count": 19,
   "metadata": {},
   "outputs": [
    {
     "name": "stdout",
     "output_type": "stream",
     "text": [
      "Mean prediction error on test set: 38.60 $/night\n"
     ]
    }
   ],
   "source": [
    "# size of test set\n",
    "n_test = len(prices_test)\n",
    "# initialize list of errors for each sample\n",
    "pred_error = [0 for i in range(n_test)]\n",
    "# compute prediction error for each sample\n",
    "for i in range(n_test):\n",
    "    true_price = prices_test[i]\n",
    "    pred_price = sum(beta_vec_3[j].x * feat_test[i][j] for j in range(d))\n",
    "    pred_error[i] = abs(true_price - pred_price)\n",
    "    \n",
    "# compute mean error and display\n",
    "print(f'Mean prediction error on test set: {sum(pred_error) / n_test:.2f} $/night')\n"
   ]
  }
 ],
 "metadata": {
  "kernelspec": {
   "display_name": "Python 3",
   "language": "python",
   "name": "python3"
  },
  "language_info": {
   "codemirror_mode": {
    "name": "ipython",
    "version": 3
   },
   "file_extension": ".py",
   "mimetype": "text/x-python",
   "name": "python",
   "nbconvert_exporter": "python",
   "pygments_lexer": "ipython3",
   "version": "3.7.9"
  }
 },
 "nbformat": 4,
 "nbformat_minor": 4
}
