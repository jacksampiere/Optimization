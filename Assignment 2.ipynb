{
 "cells": [
  {
   "cell_type": "markdown",
   "metadata": {},
   "source": [
    "# MGMTMSA 403 Homework 2: Portfolio Optimization\n"
   ]
  },
  {
   "cell_type": "markdown",
   "metadata": {},
   "source": [
    "## Pre-processing step: Estimate expected returns and covariance"
   ]
  },
  {
   "cell_type": "code",
   "execution_count": 11,
   "metadata": {},
   "outputs": [],
   "source": [
    "# Import gurobi and numpy\n",
    "from gurobipy import *\n",
    "import numpy as np\n",
    "from numpy import genfromtxt\n",
    "import csv\n",
    "\n",
    "# Get index of 4 tickers\n",
    "tick4 = [\"MSFT\",\"GS\",\"PG\",\"SCHP\"]\n",
    "\n",
    "# Get variable names\n",
    "with open('Prices.csv') as csvFile:\n",
    "    reader = csv.reader(csvFile)\n",
    "    tickers = next(reader) # stores the tickets of all 390 stocks\n",
    "\n",
    "tickind =[];\n",
    "for t in tick4:\n",
    "    tickind.append(tickers.index(t)) # collect index that corresponds to each ticker\n",
    "\n",
    "# Load data\n",
    "prices = genfromtxt('Prices.csv', delimiter=',', skip_header = 1)\n",
    "\n",
    "# get dimensions of data\n",
    "d = prices.shape[0]\n",
    "n = prices.shape[1]\n",
    "\n",
    "# calculate monthly returns of each stock\n",
    "returns = np.zeros((d-1, n))\n",
    "for stock in range(n):\n",
    "    for month in range(d-1):\n",
    "        returns[month, stock] = prices[month+1, stock]/prices[month, stock]-1\n",
    "        \n",
    "# Store average return (parameter r_i in portfolio optimization model)       \n",
    "avg_return = np.zeros(n)\n",
    "avg_return = np.mean(returns, axis=0)\n",
    "\n",
    "# Store covariance matrix (parameter C_ij in portfolio optimization model)\n",
    "C = np.zeros((n,n))\n",
    "C = np.cov(np.transpose(returns))\n"
   ]
  },
  {
   "cell_type": "markdown",
   "metadata": {},
   "source": [
    "We use the following formulation for all Markowitz problems:"
   ]
  },
  {
   "cell_type": "markdown",
   "metadata": {},
   "source": [
    "\\begin{align}\n",
    "{\\text{min}} \\;\\; & \\sum_{i=1}^n \\sum_{j=1}^n w_{i} w_{j}C_{ij} \\\\\n",
    "\\text{s.t. } & \\sum_{i=1}^n w_{i} r_{i} \\geq \\rho, \\\\\n",
    "& \\sum_{i=1}^n w_{i} = 1, \\\\\n",
    "& w_{i} \\geq 0, \\text{ } i = 1, \\ldots, n. \\\\\n",
    "\\end{align}"
   ]
  },
  {
   "cell_type": "markdown",
   "metadata": {},
   "source": [
    "## Model 1"
   ]
  },
  {
   "cell_type": "code",
   "execution_count": 12,
   "metadata": {},
   "outputs": [],
   "source": [
    "# initialize model\n",
    "mod_1 = Model()\n",
    "\n",
    "# initialize weight vector to return\n",
    "w_1 = mod_1.addVars(4)\n",
    "\n",
    "# minimum return constraint\n",
    "mod_1.addConstr(sum(w_1[i] * avg_return[tick] for i, tick in enumerate(tickind)) >= 0.005)\n",
    "\n",
    "# total investment amount constraint\n",
    "mod_1.addConstr(sum(w_1[i] for i in range(4)) == 1)\n",
    "\n",
    "# non-negativity constraint\n",
    "for i in range(4):\n",
    "    mod_1.addConstr(w_1[i] >= 0)\n",
    "    \n",
    "# construct objective (minimize risk)\n",
    "mod_1.setObjective(sum(w_1[i] * w_1[j] * C[tick_i][tick_j] for i, tick_i in enumerate(tickind)\n",
    "                       for j, tick_j in enumerate(tickind)), GRB.MINIMIZE)\n"
   ]
  },
  {
   "cell_type": "code",
   "execution_count": 13,
   "metadata": {},
   "outputs": [
    {
     "name": "stdout",
     "output_type": "stream",
     "text": [
      "Gurobi Optimizer version 9.1.0 build v9.1.0rc0 (win64)\n",
      "Thread count: 2 physical cores, 4 logical processors, using up to 4 threads\n",
      "Optimize a model with 6 rows, 4 columns and 12 nonzeros\n",
      "Model fingerprint: 0x70c79b8a\n",
      "Model has 10 quadratic objective terms\n",
      "Coefficient statistics:\n",
      "  Matrix range     [2e-04, 1e+00]\n",
      "  Objective range  [0e+00, 0e+00]\n",
      "  QObjective range [5e-05, 7e-03]\n",
      "  Bounds range     [0e+00, 0e+00]\n",
      "  RHS range        [5e-03, 1e+00]\n",
      "Presolve removed 4 rows and 0 columns\n",
      "Presolve time: 0.01s\n",
      "Presolved: 2 rows, 4 columns, 8 nonzeros\n",
      "Presolved model has 10 quadratic objective terms\n",
      "Ordering time: 0.00s\n",
      "\n",
      "Barrier statistics:\n",
      " Free vars  : 3\n",
      " AA' NZ     : 1.000e+01\n",
      " Factor NZ  : 1.500e+01\n",
      " Factor Ops : 5.500e+01 (less than 1 second per iteration)\n",
      " Threads    : 1\n",
      "\n",
      "                  Objective                Residual\n",
      "Iter       Primal          Dual         Primal    Dual     Compl     Time\n",
      "   0   1.87864836e+05 -1.87864836e+05  3.50e+03 1.91e-07  1.00e+06     0s\n",
      "   1   5.03195868e+03 -5.16248579e+03  2.59e+02 1.41e-08  7.60e+04     0s\n",
      "   2   8.65509708e-03 -1.63980611e+02  5.37e-01 2.93e-11  1.91e+02     0s\n",
      "   3   9.86310203e-04 -1.11685777e+02  5.37e-07 2.93e-17  2.23e+01     0s\n",
      "   4   9.86278716e-04 -1.12363063e-01  8.01e-12 3.47e-18  2.27e-02     0s\n",
      "   5   9.62254421e-04 -7.39765491e-04  8.51e-14 3.47e-18  3.40e-04     0s\n",
      "   6   2.39090553e-04 -5.58090861e-04  6.94e-18 1.30e-18  1.59e-04     0s\n",
      "   7   1.89326156e-04  1.66699694e-04  1.73e-18 8.67e-19  4.53e-06     0s\n",
      "   8   1.77828223e-04  1.76221352e-04  1.32e-16 1.31e-19  3.21e-07     0s\n",
      "   9   1.77494541e-04  1.77442512e-04  1.36e-15 4.34e-19  1.04e-08     0s\n",
      "  10   1.77493265e-04  1.77493214e-04  5.57e-16 6.51e-19  1.03e-11     0s\n",
      "\n",
      "Barrier solved model in 10 iterations and 0.04 seconds\n",
      "Optimal objective 1.77493265e-04\n",
      "\n"
     ]
    }
   ],
   "source": [
    "# update and solve model\n",
    "mod_1.update()\n",
    "mod_1.optimize()\n"
   ]
  },
  {
   "cell_type": "code",
   "execution_count": 14,
   "metadata": {},
   "outputs": [
    {
     "name": "stdout",
     "output_type": "stream",
     "text": [
      "Minimum risk: 0.0001774932651657861\n"
     ]
    }
   ],
   "source": [
    "# display optimal risk value\n",
    "opt_val_1 = mod_1.objval\n",
    "print(\"Minimum risk:\", opt_val_1)\n"
   ]
  },
  {
   "cell_type": "code",
   "execution_count": 15,
   "metadata": {},
   "outputs": [
    {
     "name": "stdout",
     "output_type": "stream",
     "text": [
      "Weight vector:\n",
      "<gurobi.Var C0 (value 0.23711749137102442)>\n",
      "<gurobi.Var C1 (value 0.025859835330683586)>\n",
      "<gurobi.Var C2 (value 1.5749710132194975e-09)>\n",
      "<gurobi.Var C3 (value 0.737022671723319)>\n",
      "\n",
      "Investments:\n",
      "MSFT: 23.71%\n",
      "GS: 2.59%\n",
      "PG: 0.00%\n",
      "SCHP: 73.70%\n"
     ]
    }
   ],
   "source": [
    "# display weights\n",
    "\n",
    "print('Weight vector:')\n",
    "for i in range(4):\n",
    "    print(w_1[i])\n",
    "print()\n",
    "    \n",
    "print('Investments:')\n",
    "tick4 = [\"MSFT\",\"GS\",\"PG\",\"SCHP\"]\n",
    "\n",
    "for i in range(4):\n",
    "    stock = tick4[i]\n",
    "    weight = w_1[i].x\n",
    "    print(f'{stock}: {weight * 100:<.2f}%')\n"
   ]
  },
  {
   "cell_type": "markdown",
   "metadata": {},
   "source": [
    "## Model 2"
   ]
  },
  {
   "cell_type": "code",
   "execution_count": 16,
   "metadata": {},
   "outputs": [],
   "source": [
    "# initialize model\n",
    "mod_2 = Model()\n",
    "\n",
    "# initialize weight vector to return\n",
    "w_2 = mod_2.addVars(390)\n",
    "\n",
    "# minimum return constraint\n",
    "mod_2.addConstr(sum(w_2[i] * avg_return[i] for i in range(390)) >= 0.005)\n",
    "\n",
    "# total investment amount constraint\n",
    "mod_2.addConstr(sum(w_2[i] for i in range(390)) == 1)\n",
    "\n",
    "# non-negativity constraint\n",
    "for i in range(390):\n",
    "    mod_2.addConstr(w_2[i] >= 0)\n",
    "    \n",
    "# construct objective (minimize risk)\n",
    "mod_2.setObjective(sum(w_2[i] * w_2[j] * C[i][j] for i in range(390) for j in range(390)),\n",
    "                   GRB.MINIMIZE)\n"
   ]
  },
  {
   "cell_type": "code",
   "execution_count": 17,
   "metadata": {},
   "outputs": [
    {
     "name": "stdout",
     "output_type": "stream",
     "text": [
      "Gurobi Optimizer version 9.1.0 build v9.1.0rc0 (win64)\n",
      "Thread count: 2 physical cores, 4 logical processors, using up to 4 threads\n",
      "Optimize a model with 392 rows, 390 columns and 1170 nonzeros\n",
      "Model fingerprint: 0x8a1af9c5\n",
      "Model has 76245 quadratic objective terms\n",
      "Coefficient statistics:\n",
      "  Matrix range     [1e-06, 1e+00]\n",
      "  Objective range  [0e+00, 0e+00]\n",
      "  QObjective range [2e-07, 8e-02]\n",
      "  Bounds range     [0e+00, 0e+00]\n",
      "  RHS range        [5e-03, 1e+00]\n",
      "Presolve removed 390 rows and 0 columns\n",
      "Presolve time: 0.03s\n",
      "Presolved: 2 rows, 390 columns, 780 nonzeros\n",
      "Presolved model has 76245 quadratic objective terms\n",
      "Ordering time: 0.00s\n",
      "\n",
      "Barrier statistics:\n",
      " Free vars  : 59\n",
      " AA' NZ     : 1.830e+03\n",
      " Factor NZ  : 1.891e+03\n",
      " Factor Ops : 7.753e+04 (less than 1 second per iteration)\n",
      " Threads    : 2\n",
      "\n",
      "                  Objective                Residual\n",
      "Iter       Primal          Dual         Primal    Dual     Compl     Time\n",
      "   0   2.89821559e-13 -2.89821559e-13  3.90e+05 3.22e-07  1.00e+06     0s\n",
      "   1   2.43039969e+03 -3.41875696e+03  1.04e+04 8.59e-09  2.67e+04     0s\n",
      "   2   3.54479277e-03 -1.01970099e+03  9.49e+00 7.84e-12  2.70e+01     0s\n",
      "   3   9.56987699e-04 -8.30932860e+02  9.49e-06 1.04e-17  2.13e+00     0s\n",
      "   4   9.56984024e-04 -8.32258791e-01  2.62e-11 2.93e-13  2.13e-03     0s\n",
      "   5   9.54080582e-04 -2.12856913e-03  6.93e-14 7.44e-16  7.88e-06     0s\n",
      "   6   5.14591256e-04 -5.41776815e-04  3.33e-15 4.01e-17  2.70e-06     0s\n",
      "   7   2.09259694e-04 -1.98530451e-04  2.22e-16 1.30e-18  1.04e-06     0s\n",
      "   8   8.76565669e-05 -2.50288443e-05  5.55e-16 8.67e-19  2.88e-07     0s\n",
      "   9   5.20861410e-05  1.71919030e-05  6.66e-16 4.34e-19  8.92e-08     0s\n",
      "  10   3.83492078e-05  2.50073953e-05  1.22e-15 4.34e-19  3.41e-08     0s\n",
      "  11   3.26253781e-05  2.77940249e-05  8.77e-15 4.34e-19  1.24e-08     0s\n",
      "  12   2.94790948e-05  2.87007171e-05  6.66e-15 2.17e-19  1.99e-09     0s\n",
      "  13   2.87991618e-05  2.87838933e-05  1.22e-15 4.34e-19  3.90e-11     0s\n",
      "  14   2.87853755e-05  2.87849519e-05  3.89e-14 2.17e-19  1.08e-12     0s\n",
      "\n",
      "Barrier solved model in 14 iterations and 0.10 seconds\n",
      "Optimal objective 2.87853755e-05\n",
      "\n"
     ]
    }
   ],
   "source": [
    "# update and solve model\n",
    "mod_2.update()\n",
    "mod_2.optimize()\n"
   ]
  },
  {
   "cell_type": "code",
   "execution_count": 18,
   "metadata": {
    "scrolled": true
   },
   "outputs": [
    {
     "name": "stdout",
     "output_type": "stream",
     "text": [
      "Minimum risk: 2.8785375543938808e-05\n"
     ]
    }
   ],
   "source": [
    "# display optimal risk value\n",
    "opt_val_2 = mod_2.objval\n",
    "print(\"Minimum risk:\", opt_val_2)\n"
   ]
  },
  {
   "cell_type": "markdown",
   "metadata": {},
   "source": [
    "## Model 3"
   ]
  },
  {
   "cell_type": "markdown",
   "metadata": {},
   "source": [
    "Allowing for investment in only 4 or less stocks, we get the following modified setup:"
   ]
  },
  {
   "cell_type": "markdown",
   "metadata": {},
   "source": [
    "\\begin{align}\n",
    "{\\text{min}} \\;\\; & \\sum_{i=1}^n \\sum_{j=1}^n w_{i} w_{j}C_{ij} \\\\\n",
    "\\text{s.t. } & \\sum_{i=1}^n w_{i} r_{i} \\geq \\rho, \\\\\n",
    "& \\sum_{i=1}^n w_{i} = 1, \\\\\n",
    "& \\sum_{i=1}^n w_{i} x_{i} = 1, \\\\\n",
    "& \\sum_{i=1}^n x_{i} \\leq 4, \\\\\n",
    "& w_{i} \\geq 0, \\text{ } i = 1, \\ldots, n. \\\\\n",
    "\\end{align}"
   ]
  },
  {
   "cell_type": "code",
   "execution_count": 19,
   "metadata": {},
   "outputs": [],
   "source": [
    "# initialize model\n",
    "mod_3 = Model()\n",
    "\n",
    "# initialize weight vector to return\n",
    "w_3 = mod_3.addVars(390)\n",
    "x = mod_3.addVars(390, vtype = GRB.BINARY)\n",
    "\n",
    "# minimum return constraint\n",
    "mod_3.addConstr(sum(w_3[i] * avg_return[i] for i in range(390)) >= 0.005)\n",
    "\n",
    "# total investment amount constraints\n",
    "mod_3.addConstr(sum(w_3[i] * x[i] for i in range(390)) == 1)\n",
    "mod_3.addConstr(sum(w_3[i] for i in range(390)) == 1)\n",
    "\n",
    "# only invest in 4 stocks\n",
    "mod_3.addConstr(sum(x[i] for i in range(390)) <= 4)\n",
    "\n",
    "# non-negativity constraint\n",
    "for i in range(390):\n",
    "    mod_3.addConstr(w_3[i] >= 0)\n",
    "    \n",
    "# construct objective (minimize risk)\n",
    "mod_3.setObjective(sum(w_3[i] * w_3[j] * C[i][j] for i in range(390) for j in range(390)),\n",
    "                   GRB.MINIMIZE)\n"
   ]
  },
  {
   "cell_type": "code",
   "execution_count": 20,
   "metadata": {
    "scrolled": false
   },
   "outputs": [
    {
     "name": "stdout",
     "output_type": "stream",
     "text": [
      "Gurobi Optimizer version 9.1.0 build v9.1.0rc0 (win64)\n",
      "Thread count: 2 physical cores, 4 logical processors, using up to 4 threads\n",
      "Optimize a model with 393 rows, 780 columns and 1560 nonzeros\n",
      "Model fingerprint: 0x859e9ed2\n",
      "Model has 76245 quadratic objective terms\n",
      "Model has 1 quadratic constraint\n",
      "Variable types: 390 continuous, 390 integer (390 binary)\n",
      "Coefficient statistics:\n",
      "  Matrix range     [1e-06, 1e+00]\n",
      "  QMatrix range    [1e+00, 1e+00]\n",
      "  Objective range  [0e+00, 0e+00]\n",
      "  QObjective range [2e-07, 8e-02]\n",
      "  Bounds range     [1e+00, 1e+00]\n",
      "  RHS range        [5e-03, 4e+00]\n",
      "  QRHS range       [1e+00, 1e+00]\n",
      "Presolve removed 390 rows and 0 columns\n",
      "Presolve time: 0.01s\n",
      "Presolved: 1174 rows, 1170 columns, 4290 nonzeros\n",
      "Presolved model has 76245 quadratic objective terms\n",
      "Variable types: 780 continuous, 390 integer (390 binary)\n",
      "Found heuristic solution: objective 0.0021239\n",
      "\n",
      "Root relaxation: objective 2.878501e-05, 1586 iterations, 0.05 seconds\n",
      "\n",
      "    Nodes    |    Current Node    |     Objective Bounds      |     Work\n",
      " Expl Unexpl |  Obj  Depth IntInf | Incumbent    BestBd   Gap | It/Node Time\n",
      "\n",
      "     0     0    0.00003    0   23    0.00212    0.00003  98.6%     -    0s\n",
      "H    0     0                       0.0001439    0.00003  80.0%     -    0s\n",
      "     0     0    0.00003    0   22    0.00014    0.00003  80.0%     -    0s\n",
      "     0     0    0.00003    0   21    0.00014    0.00003  80.0%     -    0s\n",
      "     0     0    0.00003    0   21    0.00014    0.00003  80.0%     -    0s\n",
      "     0     0    0.00003    0   21    0.00014    0.00003  80.0%     -    0s\n",
      "     0     0    0.00003    0   21    0.00014    0.00003  80.0%     -    0s\n",
      "     0     2    0.00003    0   21    0.00014    0.00003  80.0%     -    0s\n",
      "*   29    28              11       0.0001015    0.00003  71.6%  55.5    0s\n",
      "*   78    49               7       0.0000855    0.00003  66.3%  49.5    0s\n",
      "H  117    68                       0.0000838    0.00003  65.6%  41.3    1s\n",
      "H  603   362                       0.0000827    0.00003  62.8%  25.2    2s\n",
      "H  806   436                       0.0000820    0.00003  62.4%  27.5    3s\n",
      "H 1109   545                       0.0000782    0.00003  60.6%  27.4    4s\n",
      "H 1144   541                       0.0000761    0.00003  59.5%  27.5    4s\n",
      "  1172   567    0.00004   14   24    0.00008    0.00003  59.5%  27.7    5s\n",
      "* 2889  1067              22       0.0000744    0.00004  51.5%  25.0    8s\n",
      "* 3240  1226              21       0.0000723    0.00004  50.1%  24.5    8s\n",
      "H 3404  1002                       0.0000676    0.00004  44.6%  24.5    9s\n",
      "  3666  1116     cutoff   22         0.00007    0.00004  42.6%  24.5   10s\n",
      "  6623  2146    0.00006   46   27    0.00007    0.00004  35.5%  23.6   15s\n",
      "  9891  3514    0.00007   33   18    0.00007    0.00005  29.1%  21.7   20s\n",
      " 13163  4549    0.00006   40   26    0.00007    0.00005  23.7%  20.8   25s\n",
      "*14455  4655              33       0.0000675    0.00005  21.3%  20.7   26s\n",
      " 17310  4906    0.00006   30   25    0.00007    0.00006  16.7%  20.3   30s\n",
      " 20733  5438    0.00006   68   19    0.00007    0.00006  14.7%  19.5   37s\n",
      " 22468  4985     cutoff   42         0.00007    0.00006  12.7%  20.5   40s\n",
      " 25223  4053    0.00007   53   20    0.00007    0.00006  9.07%  23.9   45s\n",
      " 27360  3321    0.00006   33   25    0.00007    0.00006  6.78%  25.2   50s\n",
      " 30223  1347     cutoff   38         0.00007    0.00007  3.17%  27.8   55s\n",
      "\n",
      "Cutting planes:\n",
      "  Implied bound: 5\n",
      "  MIR: 2\n",
      "  Flow cover: 31\n",
      "\n",
      "Explored 32403 nodes (934387 simplex iterations) in 58.24 seconds\n",
      "Thread count was 4 (of 4 available processors)\n",
      "\n",
      "Solution count 10: 6.75347e-05 6.75857e-05 7.23026e-05 ... 0.000101477\n",
      "\n",
      "Optimal solution found (tolerance 1.00e-04)\n",
      "Best objective 6.753470760728e-05, best bound 6.753470760728e-05, gap 0.0000%\n"
     ]
    }
   ],
   "source": [
    "# update and solve model\n",
    "mod_3.update()\n",
    "mod_3.optimize()\n"
   ]
  },
  {
   "cell_type": "code",
   "execution_count": 21,
   "metadata": {},
   "outputs": [
    {
     "name": "stdout",
     "output_type": "stream",
     "text": [
      "Minimum risk: 6.75347076072811e-05\n"
     ]
    }
   ],
   "source": [
    "# display optimal risk value\n",
    "opt_val_3 = mod_3.objval\n",
    "print(\"Minimum risk:\", opt_val_3)\n"
   ]
  },
  {
   "cell_type": "code",
   "execution_count": 22,
   "metadata": {
    "scrolled": true
   },
   "outputs": [
    {
     "name": "stdout",
     "output_type": "stream",
     "text": [
      "CME: 12.64%\n",
      "LLY: 7.55%\n",
      "NVDA: 4.38%\n",
      "BND: 75.44%\n"
     ]
    }
   ],
   "source": [
    "# display optimal portfolio\n",
    "for i in range(390):\n",
    "    if x[i].x != 0:\n",
    "        stock = tickers[i]\n",
    "        weight =  w_3[i].x\n",
    "        print(f'{stock}: {weight * 100:<.2f}%')\n"
   ]
  },
  {
   "cell_type": "markdown",
   "metadata": {},
   "source": [
    "## Model 3, Question 3a"
   ]
  },
  {
   "cell_type": "markdown",
   "metadata": {},
   "source": [
    "Same model, but we impose a time limit of 30 seconds:"
   ]
  },
  {
   "cell_type": "code",
   "execution_count": 23,
   "metadata": {},
   "outputs": [
    {
     "name": "stdout",
     "output_type": "stream",
     "text": [
      "Changed value of parameter TimeLimit to 30.0\n",
      "   Prev: inf  Min: 0.0  Max: inf  Default: inf\n"
     ]
    }
   ],
   "source": [
    "# initialize model\n",
    "mod_3a = Model()\n",
    "\n",
    "# initialize weight vector to return\n",
    "w_3a = mod_3a.addVars(390)\n",
    "x_a = mod_3a.addVars(390, vtype = GRB.BINARY)\n",
    "\n",
    "# minimum return constraint\n",
    "mod_3a.addConstr(sum(w_3a[i] * avg_return[i] for i in range(390)) >= 0.005)\n",
    "\n",
    "# total investment amount constraints\n",
    "mod_3a.addConstr(sum(w_3a[i] * x_a[i] for i in range(390)) == 1)\n",
    "mod_3a.addConstr(sum(w_3a[i] for i in range(390)) == 1)\n",
    "\n",
    "# only invest in 4 stocks\n",
    "mod_3a.addConstr(sum(x_a[i] for i in range(390)) <= 4)\n",
    "\n",
    "# non-negativity constraint\n",
    "for i in range(390):\n",
    "    mod_3a.addConstr(w_3a[i] >= 0)\n",
    "    \n",
    "# impose time limit\n",
    "mod_3a.Params.TimeLimit = 30.0\n",
    "    \n",
    "# construct objective (minimize risk)\n",
    "mod_3a.setObjective(sum(w_3a[i] * w_3a[j] * C[i][j] for i in range(390) for j in range(390)),\n",
    "                    GRB.MINIMIZE)\n"
   ]
  },
  {
   "cell_type": "code",
   "execution_count": 24,
   "metadata": {},
   "outputs": [
    {
     "name": "stdout",
     "output_type": "stream",
     "text": [
      "Gurobi Optimizer version 9.1.0 build v9.1.0rc0 (win64)\n",
      "Thread count: 2 physical cores, 4 logical processors, using up to 4 threads\n",
      "Optimize a model with 393 rows, 780 columns and 1560 nonzeros\n",
      "Model fingerprint: 0x859e9ed2\n",
      "Model has 76245 quadratic objective terms\n",
      "Model has 1 quadratic constraint\n",
      "Variable types: 390 continuous, 390 integer (390 binary)\n",
      "Coefficient statistics:\n",
      "  Matrix range     [1e-06, 1e+00]\n",
      "  QMatrix range    [1e+00, 1e+00]\n",
      "  Objective range  [0e+00, 0e+00]\n",
      "  QObjective range [2e-07, 8e-02]\n",
      "  Bounds range     [1e+00, 1e+00]\n",
      "  RHS range        [5e-03, 4e+00]\n",
      "  QRHS range       [1e+00, 1e+00]\n",
      "Presolve removed 390 rows and 0 columns\n",
      "Presolve time: 0.01s\n",
      "Presolved: 1174 rows, 1170 columns, 4290 nonzeros\n",
      "Presolved model has 76245 quadratic objective terms\n",
      "Variable types: 780 continuous, 390 integer (390 binary)\n",
      "Found heuristic solution: objective 0.0021239\n",
      "\n",
      "Root relaxation: objective 2.878501e-05, 1586 iterations, 0.04 seconds\n",
      "\n",
      "    Nodes    |    Current Node    |     Objective Bounds      |     Work\n",
      " Expl Unexpl |  Obj  Depth IntInf | Incumbent    BestBd   Gap | It/Node Time\n",
      "\n",
      "     0     0    0.00003    0   23    0.00212    0.00003  98.6%     -    0s\n",
      "H    0     0                       0.0001439    0.00003  80.0%     -    0s\n",
      "     0     0    0.00003    0   22    0.00014    0.00003  80.0%     -    0s\n",
      "     0     0    0.00003    0   21    0.00014    0.00003  80.0%     -    0s\n",
      "     0     0    0.00003    0   21    0.00014    0.00003  80.0%     -    0s\n",
      "     0     0    0.00003    0   21    0.00014    0.00003  80.0%     -    0s\n",
      "     0     0    0.00003    0   21    0.00014    0.00003  80.0%     -    0s\n",
      "     0     2    0.00003    0   21    0.00014    0.00003  80.0%     -    0s\n",
      "*   29    28              11       0.0001015    0.00003  71.6%  55.5    0s\n",
      "*   78    49               7       0.0000855    0.00003  66.3%  49.5    0s\n",
      "H  117    68                       0.0000838    0.00003  65.6%  41.3    0s\n",
      "H  603   362                       0.0000827    0.00003  62.8%  25.2    1s\n",
      "H  806   436                       0.0000820    0.00003  62.4%  27.5    3s\n",
      "H 1109   545                       0.0000782    0.00003  60.6%  27.4    4s\n",
      "H 1144   541                       0.0000761    0.00003  59.5%  27.5    4s\n",
      "  1264   613    0.00005   15   19    0.00008    0.00003  59.5%  26.8    5s\n",
      "* 2889  1067              22       0.0000744    0.00004  51.5%  25.0    7s\n",
      "* 3240  1226              21       0.0000723    0.00004  50.1%  24.5    8s\n",
      "H 3404  1002                       0.0000676    0.00004  44.6%  24.5    9s\n",
      "  3666  1116     cutoff   22         0.00007    0.00004  42.6%  24.5   10s\n",
      "  6988  2373    0.00006   29   27    0.00007    0.00004  34.2%  23.5   15s\n",
      " 10874  3980    0.00007   42   12    0.00007    0.00005  27.6%  21.2   20s\n",
      " 13915  4664    0.00006   26   26    0.00007    0.00005  21.9%  20.5   25s\n",
      "*14455  4655              33       0.0000675    0.00005  21.3%  20.7   25s\n",
      " 18157  4960    0.00006   88   16    0.00007    0.00006  16.0%  20.1   30s\n",
      "\n",
      "Cutting planes:\n",
      "  Flow cover: 1\n",
      "\n",
      "Explored 18296 nodes (369997 simplex iterations) in 30.02 seconds\n",
      "Thread count was 4 (of 4 available processors)\n",
      "\n",
      "Solution count 10: 6.75347e-05 6.75857e-05 7.23026e-05 ... 0.000101477\n",
      "\n",
      "Time limit reached\n",
      "Best objective 6.753470760728e-05, best bound 5.683090523691e-05, gap 15.8493%\n"
     ]
    }
   ],
   "source": [
    "# update and solve model\n",
    "mod_3a.update()\n",
    "mod_3a.optimize()\n"
   ]
  },
  {
   "cell_type": "code",
   "execution_count": 25,
   "metadata": {},
   "outputs": [
    {
     "name": "stdout",
     "output_type": "stream",
     "text": [
      "CME: 12.64%\n",
      "LLY: 7.55%\n",
      "NVDA: 4.38%\n",
      "BND: 75.44%\n"
     ]
    }
   ],
   "source": [
    "# display optimal portfolio\n",
    "for i in range(390):\n",
    "    if x_a[i].x != 0:\n",
    "        stock = tickers[i]\n",
    "        weight =  w_3a[i].x\n",
    "        print(f'{stock}: {weight * 100:<.2f}%')\n",
    "        "
   ]
  },
  {
   "cell_type": "markdown",
   "metadata": {},
   "source": [
    "## Model 3, Question 3b"
   ]
  },
  {
   "cell_type": "markdown",
   "metadata": {},
   "source": [
    "Same model, but we impose an optimality gap of 10% (0.1):"
   ]
  },
  {
   "cell_type": "code",
   "execution_count": 26,
   "metadata": {},
   "outputs": [
    {
     "name": "stdout",
     "output_type": "stream",
     "text": [
      "Changed value of parameter MIPGap to 0.1\n",
      "   Prev: 0.0001  Min: 0.0  Max: inf  Default: 0.0001\n"
     ]
    }
   ],
   "source": [
    "# initialize model\n",
    "mod_3b = Model()\n",
    "\n",
    "# initialize weight vector to return\n",
    "w_3b = mod_3b.addVars(390)\n",
    "x_b = mod_3b.addVars(390, vtype = GRB.BINARY)\n",
    "\n",
    "# minimum return constraint\n",
    "mod_3b.addConstr(sum(w_3b[i] * avg_return[i] for i in range(390)) >= 0.005)\n",
    "\n",
    "# total investment amount constraints\n",
    "mod_3b.addConstr(sum(w_3b[i] * x_b[i] for i in range(390)) == 1)\n",
    "mod_3b.addConstr(sum(w_3b[i] for i in range(390)) == 1)\n",
    "\n",
    "# only invest in 4 stocks\n",
    "mod_3b.addConstr(sum(x_b[i] for i in range(390)) <= 4)\n",
    "\n",
    "# non-negativity constraint\n",
    "for i in range(390):\n",
    "    mod_3b.addConstr(w_3b[i] >= 0)\n",
    "    \n",
    "# set optimality gap limit\n",
    "mod_3b.Params.MIPGap = 0.1\n",
    "    \n",
    "# construct objective (minimize risk)\n",
    "mod_3b.setObjective(sum(w_3b[i] * w_3b[j] * C[i][j] for i in range(390) for j in range(390)),\n",
    "                    GRB.MINIMIZE)\n"
   ]
  },
  {
   "cell_type": "code",
   "execution_count": 27,
   "metadata": {},
   "outputs": [
    {
     "name": "stdout",
     "output_type": "stream",
     "text": [
      "Gurobi Optimizer version 9.1.0 build v9.1.0rc0 (win64)\n",
      "Thread count: 2 physical cores, 4 logical processors, using up to 4 threads\n",
      "Optimize a model with 393 rows, 780 columns and 1560 nonzeros\n",
      "Model fingerprint: 0x859e9ed2\n",
      "Model has 76245 quadratic objective terms\n",
      "Model has 1 quadratic constraint\n",
      "Variable types: 390 continuous, 390 integer (390 binary)\n",
      "Coefficient statistics:\n",
      "  Matrix range     [1e-06, 1e+00]\n",
      "  QMatrix range    [1e+00, 1e+00]\n",
      "  Objective range  [0e+00, 0e+00]\n",
      "  QObjective range [2e-07, 8e-02]\n",
      "  Bounds range     [1e+00, 1e+00]\n",
      "  RHS range        [5e-03, 4e+00]\n",
      "  QRHS range       [1e+00, 1e+00]\n",
      "Presolve removed 390 rows and 0 columns\n",
      "Presolve time: 0.02s\n",
      "Presolved: 1174 rows, 1170 columns, 4290 nonzeros\n",
      "Presolved model has 76245 quadratic objective terms\n",
      "Variable types: 780 continuous, 390 integer (390 binary)\n",
      "Found heuristic solution: objective 0.0021239\n",
      "\n",
      "Root relaxation: objective 2.878501e-05, 1586 iterations, 0.06 seconds\n",
      "\n",
      "    Nodes    |    Current Node    |     Objective Bounds      |     Work\n",
      " Expl Unexpl |  Obj  Depth IntInf | Incumbent    BestBd   Gap | It/Node Time\n",
      "\n",
      "     0     0    0.00003    0   23    0.00212    0.00003  98.6%     -    0s\n",
      "H    0     0                       0.0001439    0.00003  80.0%     -    0s\n",
      "     0     0    0.00003    0   22    0.00014    0.00003  80.0%     -    0s\n",
      "     0     0    0.00003    0   21    0.00014    0.00003  80.0%     -    0s\n",
      "     0     0    0.00003    0   21    0.00014    0.00003  80.0%     -    0s\n",
      "     0     0    0.00003    0   21    0.00014    0.00003  80.0%     -    0s\n",
      "     0     0    0.00003    0   21    0.00014    0.00003  80.0%     -    0s\n",
      "     0     2    0.00003    0   21    0.00014    0.00003  80.0%     -    0s\n",
      "*   29    28              11       0.0001015    0.00003  71.6%  55.5    0s\n",
      "*   78    49               7       0.0000855    0.00003  66.3%  49.5    0s\n",
      "H  117    68                       0.0000838    0.00003  65.6%  41.3    0s\n",
      "H  603   362                       0.0000827    0.00003  62.8%  25.2    2s\n",
      "H  806   436                       0.0000820    0.00003  62.4%  27.5    3s\n",
      "H 1109   545                       0.0000782    0.00003  60.6%  27.4    4s\n",
      "H 1144   541                       0.0000761    0.00003  59.5%  27.5    4s\n",
      "  1264   613    0.00005   15   19    0.00008    0.00003  59.5%  26.8    5s\n",
      "* 2889  1067              22       0.0000744    0.00004  51.5%  25.0    8s\n",
      "* 3240  1226              21       0.0000723    0.00004  50.1%  24.5    9s\n",
      "  3369  1252    0.00007  135   20    0.00007    0.00004  50.1%  24.6   10s\n",
      "H 3404  1002                       0.0000676    0.00004  44.6%  24.5   10s\n",
      "  5819  1852     cutoff   26         0.00007    0.00004  36.6%  24.5   15s\n",
      "  8834  2957    0.00006   48   12    0.00007    0.00005  30.4%  22.2   20s\n",
      " 12417  4385    0.00005   36   28    0.00007    0.00005  25.3%  20.8   25s\n",
      "*14455  4655              33       0.0000675    0.00005  21.3%  20.7   28s\n",
      " 15585  4832    0.00006   35   24    0.00007    0.00005  19.0%  20.7   30s\n",
      " 19405  5273    0.00006   46   12    0.00007    0.00006  15.2%  19.9   35s\n",
      " 21222  5342     cutoff   80         0.00007    0.00006  14.6%  19.4   40s\n",
      " 24186  4456     cutoff   43         0.00007    0.00006  10.3%  22.6   45s\n",
      "\n",
      "Cutting planes:\n",
      "  Implied bound: 4\n",
      "  MIR: 2\n",
      "  Flow cover: 29\n",
      "\n",
      "Explored 24524 nodes (566219 simplex iterations) in 45.46 seconds\n",
      "Thread count was 4 (of 4 available processors)\n",
      "\n",
      "Solution count 10: 6.75347e-05 6.75857e-05 7.23026e-05 ... 0.000101477\n",
      "\n",
      "Optimal solution found (tolerance 1.00e-01)\n",
      "Best objective 6.753470760728e-05, best bound 6.083106761572e-05, gap 9.9262%\n"
     ]
    }
   ],
   "source": [
    "# update and solve model\n",
    "mod_3b.update()\n",
    "mod_3b.optimize()\n"
   ]
  },
  {
   "cell_type": "code",
   "execution_count": 28,
   "metadata": {},
   "outputs": [
    {
     "name": "stdout",
     "output_type": "stream",
     "text": [
      "CME: 12.64%\n",
      "LLY: 7.55%\n",
      "NVDA: 4.38%\n",
      "BND: 75.44%\n"
     ]
    }
   ],
   "source": [
    "# display optimal portfolio\n",
    "for i in range(390):\n",
    "    if x_b[i].x != 0:\n",
    "        stock = tickers[i]\n",
    "        weight =  w_3b[i].x\n",
    "        print(f'{stock}: {weight * 100:<.2f}%')\n"
   ]
  }
 ],
 "metadata": {
  "kernelspec": {
   "display_name": "Python 3",
   "language": "python",
   "name": "python3"
  },
  "language_info": {
   "codemirror_mode": {
    "name": "ipython",
    "version": 3
   },
   "file_extension": ".py",
   "mimetype": "text/x-python",
   "name": "python",
   "nbconvert_exporter": "python",
   "pygments_lexer": "ipython3",
   "version": "3.7.9"
  }
 },
 "nbformat": 4,
 "nbformat_minor": 2
}
